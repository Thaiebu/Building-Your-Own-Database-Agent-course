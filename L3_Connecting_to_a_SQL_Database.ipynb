{
 "cells": [
  {
   "cell_type": "markdown",
   "id": "834061f0",
   "metadata": {},
   "source": [
    "# Lesson 3: Connecting to a SQL Database"
   ]
  },
  {
   "cell_type": "markdown",
   "id": "34cb8641",
   "metadata": {},
   "source": [
    "## Setup"
   ]
  },
  {
   "cell_type": "code",
   "execution_count": 1,
   "id": "f50bdee1-25c0-472e-a739-c8551b5c5349",
   "metadata": {
    "height": 132
   },
   "outputs": [],
   "source": [
    "import os\n",
    "from IPython.display import Markdown, HTML, display\n",
    "from langchain.chat_models import AzureChatOpenAI\n",
    "from langchain.agents import create_sql_agent\n",
    "from langchain.agents.agent_toolkits import SQLDatabaseToolkit\n",
    "from langchain.sql_database import SQLDatabase\n",
    "from langchain_openai import AzureChatOpenAI"
   ]
  },
  {
   "cell_type": "markdown",
   "id": "730f966e",
   "metadata": {},
   "source": [
    "## Recover the original dataset"
   ]
  },
  {
   "cell_type": "markdown",
   "id": "95771d97",
   "metadata": {},
   "source": [
    "**Note**: To access the data locally, use the following code:\n",
    "\n",
    "```\n",
    "os.makedirs(\"data\",exist_ok=True)\n",
    "!wget https://covidtracking.com/data/download/all-states-history.csv -P ./data/\n",
    "file_url = \"./data/all-states-history.csv\"\n",
    "df = pd.read_csv(file_url).fillna(value = 0)\n",
    "```"
   ]
  },
  {
   "cell_type": "code",
   "execution_count": 2,
   "id": "37246b14-8a2a-4396-b592-16c1b8b62973",
   "metadata": {
    "height": 98
   },
   "outputs": [],
   "source": [
    "from sqlalchemy import create_engine\n",
    "import pandas as pd\n",
    "\n",
    "\n",
    "df = pd.read_csv(\"./data/all-states-history.csv\").fillna(value = 0)"
   ]
  },
  {
   "cell_type": "markdown",
   "id": "8df5c4c1",
   "metadata": {},
   "source": [
    "## Move the data to the SQL database"
   ]
  },
  {
   "cell_type": "code",
   "execution_count": 3,
   "id": "6bb39f31-4ab3-4c95-a55d-4140fd68711f",
   "metadata": {
    "height": 251
   },
   "outputs": [
    {
     "data": {
      "text/plain": [
       "20780"
      ]
     },
     "execution_count": 3,
     "metadata": {},
     "output_type": "execute_result"
    }
   ],
   "source": [
    "# Path to your SQLite database file\n",
    "database_file_path = \"./db/test.db\"\n",
    "\n",
    "# Create an engine to connect to the SQLite database\n",
    "# SQLite only requires the path to the database file\n",
    "engine = create_engine(f'sqlite:///{database_file_path}')\n",
    "file_url = \"./data/all-states-history.csv\"\n",
    "df = pd.read_csv(file_url).fillna(value = 0)\n",
    "df.to_sql(\n",
    "    'all_states_history',\n",
    "    con=engine,\n",
    "    if_exists='replace',\n",
    "    index=False\n",
    ")"
   ]
  },
  {
   "cell_type": "markdown",
   "id": "8307ac30",
   "metadata": {},
   "source": [
    "## Prepare the SQL prompt"
   ]
  },
  {
   "cell_type": "code",
   "execution_count": 4,
   "id": "a2e02e43-c499-4897-9981-78e7fbae3491",
   "metadata": {
    "height": 608
   },
   "outputs": [],
   "source": [
    "MSSQL_AGENT_PREFIX = \"\"\"\n",
    "\n",
    "You are an agent designed to interact with a SQL database.\n",
    "## Instructions:\n",
    "- Given an input question, create a syntactically correct {dialect} query\n",
    "to run, then look at the results of the query and return the answer.\n",
    "- Unless the user specifies a specific number of examples they wish to\n",
    "obtain, **ALWAYS** limit your query to at most {top_k} results.\n",
    "- You can order the results by a relevant column to return the most\n",
    "interesting examples in the database.\n",
    "- Never query for all the columns from a specific table, only ask for\n",
    "the relevant columns given the question.\n",
    "- You have access to tools for interacting with the database.\n",
    "- You MUST double check your query before executing it.If you get an error\n",
    "while executing a query,rewrite the query and try again.\n",
    "- DO NOT make any DML statements (INSERT, UPDATE, DELETE, DROP etc.)\n",
    "to the database.\n",
    "- DO NOT MAKE UP AN ANSWER OR USE PRIOR KNOWLEDGE, ONLY USE THE RESULTS\n",
    "OF THE CALCULATIONS YOU HAVE DONE.\n",
    "- Your response should be in Markdown. However, **when running  a SQL Query\n",
    "in \"Action Input\", do not include the markdown backticks**.\n",
    "Those are only for formatting the response, not for executing the command.\n",
    "- ALWAYS, as part of your final answer, explain how you got to the answer\n",
    "on a section that starts with: \"Explanation:\". Include the SQL query as\n",
    "part of the explanation section.\n",
    "- If the question does not seem related to the database, just return\n",
    "\"I don\\'t know\" as the answer.\n",
    "- Only use the below tools. Only use the information returned by the\n",
    "below tools to construct your query and final answer.\n",
    "- Do not make up table names, only use the tables returned by any of the\n",
    "tools below.\n",
    "\n",
    "## Tools:\n",
    "\n",
    "\"\"\""
   ]
  },
  {
   "cell_type": "code",
   "execution_count": 5,
   "id": "e70cd29a-c369-4419-ae27-e1f9912b5064",
   "metadata": {
    "height": 693
   },
   "outputs": [],
   "source": [
    "MSSQL_AGENT_FORMAT_INSTRUCTIONS = \"\"\"\n",
    "\n",
    "## Use the following format:\n",
    "\n",
    "Question: the input question you must answer.\n",
    "Thought: you should always think about what to do.\n",
    "Action: the action to take, should be one of [{tool_names}].\n",
    "Action Input: the input to the action.\n",
    "Observation: the result of the action.\n",
    "... (this Thought/Action/Action Input/Observation can repeat N times)\n",
    "Thought: I now know the final answer.\n",
    "Final Answer: the final answer to the original input question.\n",
    "\n",
    "Example of Final Answer:\n",
    "<=== Beginning of example\n",
    "\n",
    "Action: query_sql_db\n",
    "Action Input: \n",
    "SELECT TOP (10) [death]\n",
    "FROM covidtracking \n",
    "WHERE state = 'TX' AND date LIKE '2020%'\n",
    "\n",
    "Observation:\n",
    "[(27437.0,), (27088.0,), (26762.0,), (26521.0,), (26472.0,), (26421.0,), (26408.0,)]\n",
    "Thought:I now know the final answer\n",
    "Final Answer: There were 27437 people who died of covid in Texas in 2020.\n",
    "\n",
    "Explanation:\n",
    "I queried the `covidtracking` table for the `death` column where the state\n",
    "is 'TX' and the date starts with '2020'. The query returned a list of tuples\n",
    "with the number of deaths for each day in 2020. To answer the question,\n",
    "I took the sum of all the deaths in the list, which is 27437.\n",
    "I used the following query\n",
    "\n",
    "```sql\n",
    "SELECT [death] FROM covidtracking WHERE state = 'TX' AND date LIKE '2020%'\"\n",
    "```\n",
    "===> End of Example\n",
    "\n",
    "\"\"\""
   ]
  },
  {
   "cell_type": "markdown",
   "id": "a9350e98",
   "metadata": {},
   "source": [
    "## Call the Azure Chat model and create the SQL agent"
   ]
  },
  {
   "cell_type": "markdown",
   "id": "2816f00e",
   "metadata": {},
   "source": [
    "**Note**: The pre-configured cloud resource grants you access to the Azure OpenAI GPT model. The key and endpoint provided below are intended for teaching purposes only. Your notebook environment is already set up with the necessary keys, which may differ from those used by the instructor during the filming."
   ]
  },
  {
   "cell_type": "code",
   "execution_count": 6,
   "id": "a9d5ffc3-cea0-48f8-96ce-177bb9cecd92",
   "metadata": {
    "height": 183
   },
   "outputs": [],
   "source": [
    "llm = AzureChatOpenAI(\n",
    "    openai_api_version=\"2023-05-15\",\n",
    "    azure_deployment=\"gpt-4-1106\",\n",
    "    azure_endpoint=os.getenv(\"AZURE_OPENAI_ENDPOINT\"),\n",
    "    temperature=0, \n",
    "    max_tokens=500\n",
    ")\n",
    "\n",
    "db = SQLDatabase.from_uri(f'sqlite:///{database_file_path}')\n",
    "toolkit = SQLDatabaseToolkit(db=db, llm=llm)"
   ]
  },
  {
   "cell_type": "code",
   "execution_count": 7,
   "id": "50e7259a-ee4b-4c8f-a0fa-f747237ad6a4",
   "metadata": {
    "height": 234
   },
   "outputs": [],
   "source": [
    "QUESTION = \"\"\"How may patients were hospitalized during October 2020\n",
    "in New York, and nationwide as the total of all states?\n",
    "Use the hospitalizedIncrease column\n",
    "\"\"\"\n",
    "\n",
    "agent_executor_SQL = create_sql_agent(\n",
    "    prefix=MSSQL_AGENT_PREFIX,\n",
    "    format_instructions = MSSQL_AGENT_FORMAT_INSTRUCTIONS,\n",
    "    llm=llm,\n",
    "    toolkit=toolkit,\n",
    "    top_k=30,\n",
    "    verbose=True\n",
    ")"
   ]
  },
  {
   "cell_type": "markdown",
   "id": "9fea48e9",
   "metadata": {},
   "source": [
    "## Invoke the SQL model"
   ]
  },
  {
   "cell_type": "code",
   "execution_count": 8,
   "id": "953cee48-831b-4b87-98ef-359fafb7492d",
   "metadata": {
    "height": 30
   },
   "outputs": [
    {
     "name": "stdout",
     "output_type": "stream",
     "text": [
      "\n",
      "\n",
      "\u001b[1m> Entering new AgentExecutor chain...\u001b[0m\n",
      "\u001b[32;1m\u001b[1;3mTo answer this question, I need to query the database for the sum of the `hospitalizedIncrease` column for the state of New York and for all states during October 2020.\n",
      "\n",
      "Action: sql_db_list_tables\n",
      "Action Input: \u001b[0m\u001b[38;5;200m\u001b[1;3malbums, all_states_history, artists, customers, employees, genres, invoice_items, invoices, media_types, playlist_track, playlists, tracks\u001b[0m\u001b[32;1m\u001b[1;3mThe table that likely contains the data I need for COVID-19 hospitalizations is `all_states_history`.\n",
      "\n",
      "Action: sql_db_schema\n",
      "Action Input: all_states_history\u001b[0m\u001b[33;1m\u001b[1;3m\n",
      "CREATE TABLE all_states_history (\n",
      "\tdate TEXT, \n",
      "\tstate TEXT, \n",
      "\tdeath FLOAT, \n",
      "\t\"deathConfirmed\" FLOAT, \n",
      "\t\"deathIncrease\" BIGINT, \n",
      "\t\"deathProbable\" FLOAT, \n",
      "\thospitalized FLOAT, \n",
      "\t\"hospitalizedCumulative\" FLOAT, \n",
      "\t\"hospitalizedCurrently\" FLOAT, \n",
      "\t\"hospitalizedIncrease\" BIGINT, \n",
      "\t\"inIcuCumulative\" FLOAT, \n",
      "\t\"inIcuCurrently\" FLOAT, \n",
      "\tnegative FLOAT, \n",
      "\t\"negativeIncrease\" BIGINT, \n",
      "\t\"negativeTestsAntibody\" FLOAT, \n",
      "\t\"negativeTestsPeopleAntibody\" FLOAT, \n",
      "\t\"negativeTestsViral\" FLOAT, \n",
      "\t\"onVentilatorCumulative\" FLOAT, \n",
      "\t\"onVentilatorCurrently\" FLOAT, \n",
      "\tpositive FLOAT, \n",
      "\t\"positiveCasesViral\" FLOAT, \n",
      "\t\"positiveIncrease\" BIGINT, \n",
      "\t\"positiveScore\" BIGINT, \n",
      "\t\"positiveTestsAntibody\" FLOAT, \n",
      "\t\"positiveTestsAntigen\" FLOAT, \n",
      "\t\"positiveTestsPeopleAntibody\" FLOAT, \n",
      "\t\"positiveTestsPeopleAntigen\" FLOAT, \n",
      "\t\"positiveTestsViral\" FLOAT, \n",
      "\trecovered FLOAT, \n",
      "\t\"totalTestEncountersViral\" FLOAT, \n",
      "\t\"totalTestEncountersViralIncrease\" BIGINT, \n",
      "\t\"totalTestResults\" FLOAT, \n",
      "\t\"totalTestResultsIncrease\" BIGINT, \n",
      "\t\"totalTestsAntibody\" FLOAT, \n",
      "\t\"totalTestsAntigen\" FLOAT, \n",
      "\t\"totalTestsPeopleAntibody\" FLOAT, \n",
      "\t\"totalTestsPeopleAntigen\" FLOAT, \n",
      "\t\"totalTestsPeopleViral\" FLOAT, \n",
      "\t\"totalTestsPeopleViralIncrease\" BIGINT, \n",
      "\t\"totalTestsViral\" FLOAT, \n",
      "\t\"totalTestsViralIncrease\" BIGINT\n",
      ")\n",
      "\n",
      "/*\n",
      "3 rows from all_states_history table:\n",
      "date\tstate\tdeath\tdeathConfirmed\tdeathIncrease\tdeathProbable\thospitalized\thospitalizedCumulative\thospitalizedCurrently\thospitalizedIncrease\tinIcuCumulative\tinIcuCurrently\tnegative\tnegativeIncrease\tnegativeTestsAntibody\tnegativeTestsPeopleAntibody\tnegativeTestsViral\tonVentilatorCumulative\tonVentilatorCurrently\tpositive\tpositiveCasesViral\tpositiveIncrease\tpositiveScore\tpositiveTestsAntibody\tpositiveTestsAntigen\tpositiveTestsPeopleAntibody\tpositiveTestsPeopleAntigen\tpositiveTestsViral\trecovered\ttotalTestEncountersViral\ttotalTestEncountersViralIncrease\ttotalTestResults\ttotalTestResultsIncrease\ttotalTestsAntibody\ttotalTestsAntigen\ttotalTestsPeopleAntibody\ttotalTestsPeopleAntigen\ttotalTestsPeopleViral\ttotalTestsPeopleViralIncrease\ttotalTestsViral\ttotalTestsViralIncrease\n",
      "2021-03-07\tAK\t305.0\t0.0\t0\t0.0\t1293.0\t1293.0\t33.0\t0\t0.0\t0.0\t0.0\t0\t0.0\t0.0\t1660758.0\t0.0\t2.0\t56886.0\t0.0\t0\t0\t0.0\t0.0\t0.0\t0.0\t68693.0\t0.0\t0.0\t0\t1731628.0\t0\t0.0\t0.0\t0.0\t0.0\t0.0\t0\t1731628.0\t0\n",
      "2021-03-07\tAL\t10148.0\t7963.0\t-1\t2185.0\t45976.0\t45976.0\t494.0\t0\t2676.0\t0.0\t1931711.0\t2087\t0.0\t0.0\t0.0\t1515.0\t0.0\t499819.0\t392077.0\t408\t0\t0.0\t0.0\t0.0\t0.0\t0.0\t295690.0\t0.0\t0\t2323788.0\t2347\t0.0\t0.0\t119757.0\t0.0\t2323788.0\t2347\t0.0\t0\n",
      "2021-03-07\tAR\t5319.0\t4308.0\t22\t1011.0\t14926.0\t14926.0\t335.0\t11\t0.0\t141.0\t2480716.0\t3267\t0.0\t0.0\t2480716.0\t1533.0\t65.0\t324818.0\t255726.0\t165\t0\t0.0\t0.0\t0.0\t81803.0\t0.0\t315517.0\t0.0\t0\t2736442.0\t3380\t0.0\t0.0\t0.0\t481311.0\t0.0\t0\t2736442.0\t3380\n",
      "*/\u001b[0m\u001b[32;1m\u001b[1;3mThe `all_states_history` table contains the `hospitalizedIncrease` column, which is what I need to sum up for New York and for all states during October 2020. The date format seems to be in `YYYY-MM-DD` format, so I will need to filter the dates to match October 2020, which would be dates starting with '2020-10'.\n",
      "\n",
      "Action: sql_db_query_checker\n",
      "Action Input: \n",
      "SELECT SUM(hospitalizedIncrease) FROM all_states_history WHERE state = 'NY' AND date LIKE '2020-10%'\n",
      "\u001b[0m\u001b[36;1m\u001b[1;3mThe provided SQLite query does not exhibit any of the common mistakes listed. It correctly uses the SUM function to aggregate the hospitalizedIncrease column, filters the state to 'NY', and uses the LIKE operator to match dates from October 2020. The query does not use NOT IN, UNION/UNION ALL, BETWEEN, have any data type mismatches, improperly quoted identifiers, incorrect number of function arguments, incorrect casting, or improper join columns. Therefore, the original query can be reproduced as is:\n",
      "\n",
      "```sql\n",
      "SELECT SUM(hospitalizedIncrease) FROM all_states_history WHERE state = 'NY' AND date LIKE '2020-10%'\n",
      "```\u001b[0m\u001b[32;1m\u001b[1;3mThe query checker has confirmed that the query is correct. Now I will execute the query to find out how many patients were hospitalized in New York during October 2020.\n",
      "\n",
      "Action: sql_db_query\n",
      "Action Input: \n",
      "SELECT SUM(hospitalizedIncrease) FROM all_states_history WHERE state = 'NY' AND date LIKE '2020-10%'\n",
      "\u001b[0m\u001b[36;1m\u001b[1;3m[(0,)]\u001b[0m\u001b[32;1m\u001b[1;3mThe result indicates that the sum of `hospitalizedIncrease` for New York in October 2020 is 0. This could mean that there were no new hospitalizations reported in the dataset for that period, or it could be a data reporting issue. To ensure accuracy, I should also check the nationwide total for the same period.\n",
      "\n",
      "Action: sql_db_query_checker\n",
      "Action Input: \n",
      "SELECT SUM(hospitalizedIncrease) FROM all_states_history WHERE date LIKE '2020-10%'\n",
      "\u001b[0m\u001b[36;1m\u001b[1;3mThe provided SQLite query does not exhibit any of the common mistakes listed. It correctly uses the SUM function to aggregate the 'hospitalizedIncrease' column, filters the 'date' column using the LIKE operator to match dates from October 2020, and does not involve any of the other mentioned issues such as NOT IN with NULL values, UNION vs UNION ALL, BETWEEN for exclusive ranges, data type mismatches, improper quoting, incorrect function arguments, incorrect casting, or improper columns for joins.\n",
      "\n",
      "The original query is reproduced below:\n",
      "\n",
      "```sql\n",
      "SELECT SUM(hospitalizedIncrease) FROM all_states_history WHERE date LIKE '2020-10%'\n",
      "```\u001b[0m\u001b[32;1m\u001b[1;3mThe query checker has confirmed that the query is correct. Now I will execute the query to find out the total number of patients hospitalized nationwide during October 2020.\n",
      "\n",
      "Action: sql_db_query\n",
      "Action Input: \n",
      "SELECT SUM(hospitalizedIncrease) FROM all_states_history WHERE date LIKE '2020-10%'\n",
      "\u001b[0m\u001b[36;1m\u001b[1;3m[(53485,)]\u001b[0m\u001b[32;1m\u001b[1;3mI now know the final answer.\n",
      "\n",
      "Final Answer: During October 2020, there were 0 patients hospitalized in New York according to the dataset. Nationwide, there were a total of 53,485 patients hospitalized during the same period.\u001b[0m\n",
      "\n",
      "\u001b[1m> Finished chain.\u001b[0m\n"
     ]
    },
    {
     "data": {
      "text/plain": [
       "{'input': 'How may patients were hospitalized during October 2020\\nin New York, and nationwide as the total of all states?\\nUse the hospitalizedIncrease column\\n',\n",
       " 'output': 'During October 2020, there were 0 patients hospitalized in New York according to the dataset. Nationwide, there were a total of 53,485 patients hospitalized during the same period.'}"
      ]
     },
     "execution_count": 8,
     "metadata": {},
     "output_type": "execute_result"
    }
   ],
   "source": [
    "agent_executor_SQL.invoke(QUESTION)"
   ]
  },
  {
   "cell_type": "code",
   "execution_count": 10,
   "id": "82adece3",
   "metadata": {
    "height": 30
   },
   "outputs": [
    {
     "data": {
      "text/html": [
       "<div>\n",
       "<style scoped>\n",
       "    .dataframe tbody tr th:only-of-type {\n",
       "        vertical-align: middle;\n",
       "    }\n",
       "\n",
       "    .dataframe tbody tr th {\n",
       "        vertical-align: top;\n",
       "    }\n",
       "\n",
       "    .dataframe thead th {\n",
       "        text-align: right;\n",
       "    }\n",
       "</style>\n",
       "<table border=\"1\" class=\"dataframe\">\n",
       "  <thead>\n",
       "    <tr style=\"text-align: right;\">\n",
       "      <th></th>\n",
       "      <th>date</th>\n",
       "      <th>state</th>\n",
       "      <th>death</th>\n",
       "      <th>deathConfirmed</th>\n",
       "      <th>deathIncrease</th>\n",
       "      <th>deathProbable</th>\n",
       "      <th>hospitalized</th>\n",
       "      <th>hospitalizedCumulative</th>\n",
       "      <th>hospitalizedCurrently</th>\n",
       "      <th>hospitalizedIncrease</th>\n",
       "      <th>...</th>\n",
       "      <th>totalTestResults</th>\n",
       "      <th>totalTestResultsIncrease</th>\n",
       "      <th>totalTestsAntibody</th>\n",
       "      <th>totalTestsAntigen</th>\n",
       "      <th>totalTestsPeopleAntibody</th>\n",
       "      <th>totalTestsPeopleAntigen</th>\n",
       "      <th>totalTestsPeopleViral</th>\n",
       "      <th>totalTestsPeopleViralIncrease</th>\n",
       "      <th>totalTestsViral</th>\n",
       "      <th>totalTestsViralIncrease</th>\n",
       "    </tr>\n",
       "  </thead>\n",
       "  <tbody>\n",
       "    <tr>\n",
       "      <th>17575</th>\n",
       "      <td>2020-04-28</td>\n",
       "      <td>TX</td>\n",
       "      <td>690.0</td>\n",
       "      <td>0.0</td>\n",
       "      <td>27</td>\n",
       "      <td>0.0</td>\n",
       "      <td>0.0</td>\n",
       "      <td>0.0</td>\n",
       "      <td>1682.0</td>\n",
       "      <td>0</td>\n",
       "      <td>...</td>\n",
       "      <td>349729.0</td>\n",
       "      <td>17581</td>\n",
       "      <td>0.0</td>\n",
       "      <td>0.0</td>\n",
       "      <td>0.0</td>\n",
       "      <td>0.0</td>\n",
       "      <td>0.0</td>\n",
       "      <td>0</td>\n",
       "      <td>349729.0</td>\n",
       "      <td>17581</td>\n",
       "    </tr>\n",
       "    <tr>\n",
       "      <th>1394</th>\n",
       "      <td>2021-02-11</td>\n",
       "      <td>VI</td>\n",
       "      <td>25.0</td>\n",
       "      <td>0.0</td>\n",
       "      <td>1</td>\n",
       "      <td>0.0</td>\n",
       "      <td>0.0</td>\n",
       "      <td>0.0</td>\n",
       "      <td>0.0</td>\n",
       "      <td>0</td>\n",
       "      <td>...</td>\n",
       "      <td>44381.0</td>\n",
       "      <td>455</td>\n",
       "      <td>0.0</td>\n",
       "      <td>0.0</td>\n",
       "      <td>0.0</td>\n",
       "      <td>0.0</td>\n",
       "      <td>44480.0</td>\n",
       "      <td>448</td>\n",
       "      <td>0.0</td>\n",
       "      <td>0</td>\n",
       "    </tr>\n",
       "    <tr>\n",
       "      <th>12889</th>\n",
       "      <td>2020-07-20</td>\n",
       "      <td>DE</td>\n",
       "      <td>523.0</td>\n",
       "      <td>465.0</td>\n",
       "      <td>0</td>\n",
       "      <td>58.0</td>\n",
       "      <td>0.0</td>\n",
       "      <td>0.0</td>\n",
       "      <td>47.0</td>\n",
       "      <td>0</td>\n",
       "      <td>...</td>\n",
       "      <td>216664.0</td>\n",
       "      <td>4709</td>\n",
       "      <td>0.0</td>\n",
       "      <td>0.0</td>\n",
       "      <td>0.0</td>\n",
       "      <td>0.0</td>\n",
       "      <td>152995.0</td>\n",
       "      <td>0</td>\n",
       "      <td>0.0</td>\n",
       "      <td>0</td>\n",
       "    </tr>\n",
       "  </tbody>\n",
       "</table>\n",
       "<p>3 rows × 41 columns</p>\n",
       "</div>"
      ],
      "text/plain": [
       "             date state  death  deathConfirmed  deathIncrease  deathProbable  \\\n",
       "17575  2020-04-28    TX  690.0             0.0             27            0.0   \n",
       "1394   2021-02-11    VI   25.0             0.0              1            0.0   \n",
       "12889  2020-07-20    DE  523.0           465.0              0           58.0   \n",
       "\n",
       "       hospitalized  hospitalizedCumulative  hospitalizedCurrently  \\\n",
       "17575           0.0                     0.0                 1682.0   \n",
       "1394            0.0                     0.0                    0.0   \n",
       "12889           0.0                     0.0                   47.0   \n",
       "\n",
       "       hospitalizedIncrease  ...  totalTestResults  totalTestResultsIncrease  \\\n",
       "17575                     0  ...          349729.0                     17581   \n",
       "1394                      0  ...           44381.0                       455   \n",
       "12889                     0  ...          216664.0                      4709   \n",
       "\n",
       "       totalTestsAntibody  totalTestsAntigen  totalTestsPeopleAntibody  \\\n",
       "17575                 0.0                0.0                       0.0   \n",
       "1394                  0.0                0.0                       0.0   \n",
       "12889                 0.0                0.0                       0.0   \n",
       "\n",
       "       totalTestsPeopleAntigen  totalTestsPeopleViral  \\\n",
       "17575                      0.0                    0.0   \n",
       "1394                       0.0                44480.0   \n",
       "12889                      0.0               152995.0   \n",
       "\n",
       "       totalTestsPeopleViralIncrease  totalTestsViral  totalTestsViralIncrease  \n",
       "17575                              0         349729.0                    17581  \n",
       "1394                             448              0.0                        0  \n",
       "12889                              0              0.0                        0  \n",
       "\n",
       "[3 rows x 41 columns]"
      ]
     },
     "execution_count": 10,
     "metadata": {},
     "output_type": "execute_result"
    }
   ],
   "source": [
    "df.sample(3)"
   ]
  },
  {
   "cell_type": "code",
   "execution_count": null,
   "id": "2312ed22",
   "metadata": {
    "height": 30
   },
   "outputs": [],
   "source": []
  },
  {
   "cell_type": "code",
   "execution_count": 12,
   "id": "5c0612eb",
   "metadata": {
    "height": 97
   },
   "outputs": [
    {
     "name": "stdout",
     "output_type": "stream",
     "text": [
      "\n",
      "\n",
      "\u001b[1m> Entering new AgentExecutor chain...\u001b[0m\n",
      "\u001b[32;1m\u001b[1;3mI need to find the total increase in hospitalizations for California and Texas during November 2020. To do this, I will need to sum the `hospitalizedIncrease` column for each state within the specified time frame.\n",
      "\n",
      "Action: sql_db_list_tables\n",
      "Action Input: \u001b[0m\u001b[38;5;200m\u001b[1;3malbums, all_states_history, artists, customers, employees, genres, invoice_items, invoices, media_types, playlist_track, playlists, tracks\u001b[0m\u001b[32;1m\u001b[1;3mThe table that likely contains the data I need for COVID-19 hospitalizations is `all_states_history`.\n",
      "\n",
      "Action: sql_db_schema\n",
      "Action Input: all_states_history\u001b[0m\u001b[33;1m\u001b[1;3m\n",
      "CREATE TABLE all_states_history (\n",
      "\tdate TEXT, \n",
      "\tstate TEXT, \n",
      "\tdeath FLOAT, \n",
      "\t\"deathConfirmed\" FLOAT, \n",
      "\t\"deathIncrease\" BIGINT, \n",
      "\t\"deathProbable\" FLOAT, \n",
      "\thospitalized FLOAT, \n",
      "\t\"hospitalizedCumulative\" FLOAT, \n",
      "\t\"hospitalizedCurrently\" FLOAT, \n",
      "\t\"hospitalizedIncrease\" BIGINT, \n",
      "\t\"inIcuCumulative\" FLOAT, \n",
      "\t\"inIcuCurrently\" FLOAT, \n",
      "\tnegative FLOAT, \n",
      "\t\"negativeIncrease\" BIGINT, \n",
      "\t\"negativeTestsAntibody\" FLOAT, \n",
      "\t\"negativeTestsPeopleAntibody\" FLOAT, \n",
      "\t\"negativeTestsViral\" FLOAT, \n",
      "\t\"onVentilatorCumulative\" FLOAT, \n",
      "\t\"onVentilatorCurrently\" FLOAT, \n",
      "\tpositive FLOAT, \n",
      "\t\"positiveCasesViral\" FLOAT, \n",
      "\t\"positiveIncrease\" BIGINT, \n",
      "\t\"positiveScore\" BIGINT, \n",
      "\t\"positiveTestsAntibody\" FLOAT, \n",
      "\t\"positiveTestsAntigen\" FLOAT, \n",
      "\t\"positiveTestsPeopleAntibody\" FLOAT, \n",
      "\t\"positiveTestsPeopleAntigen\" FLOAT, \n",
      "\t\"positiveTestsViral\" FLOAT, \n",
      "\trecovered FLOAT, \n",
      "\t\"totalTestEncountersViral\" FLOAT, \n",
      "\t\"totalTestEncountersViralIncrease\" BIGINT, \n",
      "\t\"totalTestResults\" FLOAT, \n",
      "\t\"totalTestResultsIncrease\" BIGINT, \n",
      "\t\"totalTestsAntibody\" FLOAT, \n",
      "\t\"totalTestsAntigen\" FLOAT, \n",
      "\t\"totalTestsPeopleAntibody\" FLOAT, \n",
      "\t\"totalTestsPeopleAntigen\" FLOAT, \n",
      "\t\"totalTestsPeopleViral\" FLOAT, \n",
      "\t\"totalTestsPeopleViralIncrease\" BIGINT, \n",
      "\t\"totalTestsViral\" FLOAT, \n",
      "\t\"totalTestsViralIncrease\" BIGINT\n",
      ")\n",
      "\n",
      "/*\n",
      "3 rows from all_states_history table:\n",
      "date\tstate\tdeath\tdeathConfirmed\tdeathIncrease\tdeathProbable\thospitalized\thospitalizedCumulative\thospitalizedCurrently\thospitalizedIncrease\tinIcuCumulative\tinIcuCurrently\tnegative\tnegativeIncrease\tnegativeTestsAntibody\tnegativeTestsPeopleAntibody\tnegativeTestsViral\tonVentilatorCumulative\tonVentilatorCurrently\tpositive\tpositiveCasesViral\tpositiveIncrease\tpositiveScore\tpositiveTestsAntibody\tpositiveTestsAntigen\tpositiveTestsPeopleAntibody\tpositiveTestsPeopleAntigen\tpositiveTestsViral\trecovered\ttotalTestEncountersViral\ttotalTestEncountersViralIncrease\ttotalTestResults\ttotalTestResultsIncrease\ttotalTestsAntibody\ttotalTestsAntigen\ttotalTestsPeopleAntibody\ttotalTestsPeopleAntigen\ttotalTestsPeopleViral\ttotalTestsPeopleViralIncrease\ttotalTestsViral\ttotalTestsViralIncrease\n",
      "2021-03-07\tAK\t305.0\t0.0\t0\t0.0\t1293.0\t1293.0\t33.0\t0\t0.0\t0.0\t0.0\t0\t0.0\t0.0\t1660758.0\t0.0\t2.0\t56886.0\t0.0\t0\t0\t0.0\t0.0\t0.0\t0.0\t68693.0\t0.0\t0.0\t0\t1731628.0\t0\t0.0\t0.0\t0.0\t0.0\t0.0\t0\t1731628.0\t0\n",
      "2021-03-07\tAL\t10148.0\t7963.0\t-1\t2185.0\t45976.0\t45976.0\t494.0\t0\t2676.0\t0.0\t1931711.0\t2087\t0.0\t0.0\t0.0\t1515.0\t0.0\t499819.0\t392077.0\t408\t0\t0.0\t0.0\t0.0\t0.0\t0.0\t295690.0\t0.0\t0\t2323788.0\t2347\t0.0\t0.0\t119757.0\t0.0\t2323788.0\t2347\t0.0\t0\n",
      "2021-03-07\tAR\t5319.0\t4308.0\t22\t1011.0\t14926.0\t14926.0\t335.0\t11\t0.0\t141.0\t2480716.0\t3267\t0.0\t0.0\t2480716.0\t1533.0\t65.0\t324818.0\t255726.0\t165\t0\t0.0\t0.0\t0.0\t81803.0\t0.0\t315517.0\t0.0\t0\t2736442.0\t3380\t0.0\t0.0\t0.0\t481311.0\t0.0\t0\t2736442.0\t3380\n",
      "*/\u001b[0m\u001b[32;1m\u001b[1;3mThe `all_states_history` table contains the `hospitalizedIncrease` column, which is what I need to sum up for California (CA) and Texas (TX) during November 2020. The date format seems to be YYYY-MM-DD, so I will need to filter dates between '2020-11-01' and '2020-11-30' for both states.\n",
      "\n",
      "Action: sql_db_query_checker\n",
      "Action Input: \n",
      "SELECT SUM(hospitalizedIncrease) FROM all_states_history WHERE state IN ('CA', 'TX') AND date >= '2020-11-01' AND date <= '2020-11-30'\u001b[0m\u001b[36;1m\u001b[1;3mThe original SQL query provided does not seem to contain any of the common mistakes listed. The query correctly uses IN for a list of values, does not use UNION or UNION ALL, uses explicit range conditions instead of BETWEEN (which is inclusive), appears to match data types in predicates, does not misuse quotes around identifiers, uses the correct number of arguments for the SUM function, does not require casting, and does not involve joins. Therefore, the original query can be reproduced as is:\n",
      "\n",
      "```sql\n",
      "SELECT SUM(hospitalizedIncrease) FROM all_states_history WHERE state IN ('CA', 'TX') AND date >= '2020-11-01' AND date <= '2020-11-30'\n",
      "```\u001b[0m\u001b[32;1m\u001b[1;3mThe query checker indicates that the SQL query is correct and does not contain common mistakes. Now I will execute the query to get the total number of hospitalizations in California and Texas during November 2020.\n",
      "\n",
      "Action: sql_db_query\n",
      "Action Input: \n",
      "SELECT SUM(hospitalizedIncrease) FROM all_states_history WHERE state IN ('CA', 'TX') AND date >= '2020-11-01' AND date <= '2020-11-30'\u001b[0m\u001b[36;1m\u001b[1;3m[(0,)]\u001b[0m\u001b[32;1m\u001b[1;3mThe result indicates that the sum of `hospitalizedIncrease` for California and Texas during November 2020 is 0, which seems unlikely. It's possible that the data for `hospitalizedIncrease` might not be recorded or available for that period, or there might be an issue with the data itself.\n",
      "\n",
      "To verify this, I should check a few sample rows from the `all_states_history` table for the states of California and Texas during November 2020 to see if the `hospitalizedIncrease` column has non-zero values.\n",
      "\n",
      "Action: sql_db_query\n",
      "Action Input: \n",
      "SELECT date, state, hospitalizedIncrease FROM all_states_history WHERE state IN ('CA', 'TX') AND date LIKE '2020-11%' LIMIT 10\u001b[0m\u001b[36;1m\u001b[1;3m[('2020-11-30', 'CA', 0), ('2020-11-30', 'TX', 0), ('2020-11-29', 'CA', 0), ('2020-11-29', 'TX', 0), ('2020-11-28', 'CA', 0), ('2020-11-28', 'TX', 0), ('2020-11-27', 'CA', 0), ('2020-11-27', 'TX', 0), ('2020-11-26', 'CA', 0), ('2020-11-26', 'TX', 0)]\u001b[0m\u001b[32;1m\u001b[1;3mThe sample rows from the `all_states_history` table for California and Texas during November 2020 show that the `hospitalizedIncrease` column has values of 0 for the dates checked. This suggests that either the data for hospitalization increases was not recorded or reported as increases for those days, or there might be an issue with the data collection for that specific column during that time period.\n",
      "\n",
      "Given this information, it seems that the sum of `hospitalizedIncrease` for California and Texas during November 2020 is indeed 0 according to the database, but this result should be interpreted with caution as it may not reflect the actual situation due to potential data issues.\n",
      "\n",
      "Thought: I now know the final answer.\n",
      "Final Answer: According to the database, the sum of `hospitalizedIncrease` for California and Texas during November 2020 is 0. However, this result may not accurately reflect the actual number of hospitalizations due to potential data recording issues.\u001b[0m\n",
      "\n",
      "\u001b[1m> Finished chain.\u001b[0m\n"
     ]
    },
    {
     "data": {
      "text/plain": [
       "{'input': 'How many patients were hospitalized in California and Texas \\nduring November 2020, using the hospitalizedIncrease column?',\n",
       " 'output': 'According to the database, the sum of `hospitalizedIncrease` for California and Texas during November 2020 is 0. However, this result may not accurately reflect the actual number of hospitalizations due to potential data recording issues.'}"
      ]
     },
     "execution_count": 12,
     "metadata": {},
     "output_type": "execute_result"
    }
   ],
   "source": [
    "QUESTION = \"\"\"How many patients were hospitalized in California and Texas \n",
    "during November 2020, using the hospitalizedIncrease column?\"\"\"\n",
    "\n",
    "agent_executor_SQL.invoke(QUESTION)"
   ]
  },
  {
   "cell_type": "code",
   "execution_count": null,
   "id": "0ff2d8d4",
   "metadata": {
    "height": 30
   },
   "outputs": [],
   "source": []
  }
 ],
 "metadata": {
  "kernelspec": {
   "display_name": "Python 3 (ipykernel)",
   "language": "python",
   "name": "python3"
  },
  "language_info": {
   "codemirror_mode": {
    "name": "ipython",
    "version": 3
   },
   "file_extension": ".py",
   "mimetype": "text/x-python",
   "name": "python",
   "nbconvert_exporter": "python",
   "pygments_lexer": "ipython3",
   "version": "3.11.9"
  }
 },
 "nbformat": 4,
 "nbformat_minor": 5
}
